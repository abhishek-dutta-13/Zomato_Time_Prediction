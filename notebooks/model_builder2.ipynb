{
 "cells": [
  {
   "cell_type": "code",
   "execution_count": 6,
   "metadata": {},
   "outputs": [],
   "source": [
    "import pandas as pd\n",
    "import numpy as np\n",
    "import seaborn as sns\n",
    "import matplotlib.pyplot as plt\n",
    "from src.logger import logger\n",
    "from src.exception import CustomException\n",
    "from src.utils import *\n",
    "import sys\n"
   ]
  },
  {
   "cell_type": "code",
   "execution_count": 7,
   "metadata": {},
   "outputs": [
    {
     "name": "stderr",
     "output_type": "stream",
     "text": [
      "2024-03-19 00:44:07 - Zomato_Time_Prediction - utils - INFO : Connecting to MySQL...\n",
      "2024-03-19 00:44:07 - Zomato_Time_Prediction - utils - INFO : MySQL connection established\n",
      "2024-03-19 00:44:08 - Zomato_Time_Prediction - 272529110 - INFO : MySQL connection closed\n"
     ]
    }
   ],
   "source": [
    "# Extraction of Data:\n",
    "try:\n",
    "    conn, cursor = mysql_connection()\n",
    "    sql = \"select * from zomato.delivery\"\n",
    "    cursor.execute(sql)\n",
    "    result = cursor.fetchall()\n",
    "    df = pd.DataFrame(result)\n",
    "except Exception as e:\n",
    "    logger.error(\"Error extracting data from MySQL\")\n",
    "    raise CustomException(e, sys)\n",
    "finally:\n",
    "    conn.close()\n",
    "    logger.info(\"MySQL connection closed\")\n"
   ]
  },
  {
   "cell_type": "code",
   "execution_count": 8,
   "metadata": {},
   "outputs": [],
   "source": [
    "#Drop columns:\n",
    "drop_cols = ['SerialNo', 'ID', 'Delivery_person_ID', 'Order_Date', 'Time_Orderd', 'Time_Order_picked' ]\n",
    "df.drop(labels=drop_cols, axis=1, inplace=True)\n",
    "\n",
    "#Calculating distance:\n",
    "df[\"distance\"] = df.apply(lambda row: cal_distance(row['Restaurant_latitude'], row['Restaurant_longitude'], row['Delivery_location_latitude'], row['Delivery_location_longitude']), axis=1)\n",
    "df.drop(labels=[ 'Restaurant_latitude', 'Restaurant_longitude', 'Delivery_location_latitude', 'Delivery_location_longitude'], axis=1, inplace=True)\n"
   ]
  },
  {
   "cell_type": "code",
   "execution_count": 9,
   "metadata": {},
   "outputs": [],
   "source": [
    "cat_cols = []\n",
    "num_cols = []\n",
    "\n",
    "for i in df.columns:\n",
    "    if df[i].dtype == 'object':\n",
    "        cat_cols.append(i)\n",
    "    else:\n",
    "        num_cols.append(i)"
   ]
  },
  {
   "cell_type": "code",
   "execution_count": 10,
   "metadata": {},
   "outputs": [],
   "source": [
    "df = fill_empty_with_mode(df,cat_cols)"
   ]
  },
  {
   "cell_type": "code",
   "execution_count": 11,
   "metadata": {},
   "outputs": [
    {
     "data": {
      "text/plain": [
       "2.63658376810238"
      ]
     },
     "execution_count": 11,
     "metadata": {},
     "output_type": "execute_result"
    }
   ],
   "source": [
    "#Overall mean\n",
    "mean = df[\"Time_taken (min)\"].mean()\n",
    "thereshold_percentage = 0.1\n",
    "threshold_value = mean * thereshold_percentage\n",
    "threshold_value"
   ]
  },
  {
   "cell_type": "code",
   "execution_count": 12,
   "metadata": {},
   "outputs": [
    {
     "data": {
      "text/plain": [
       "2.5996474791257365"
      ]
     },
     "execution_count": 12,
     "metadata": {},
     "output_type": "execute_result"
    }
   ],
   "source": [
    "df_weather = df[[\"Weather_conditions\", \"Time_taken (min)\"]].groupby(\"Weather_conditions\").mean()\n",
    "df_weather[\"Time_taken (min)\"].std()"
   ]
  },
  {
   "cell_type": "code",
   "execution_count": 13,
   "metadata": {},
   "outputs": [
    {
     "data": {
      "text/plain": [
       "4.054263656149913"
      ]
     },
     "execution_count": 13,
     "metadata": {},
     "output_type": "execute_result"
    }
   ],
   "source": [
    "df_road = df[[\"Road_traffic_density\", \"Time_taken (min)\"]].groupby(\"Road_traffic_density\").mean()\n",
    "df_road[\"Time_taken (min)\"].std()"
   ]
  },
  {
   "cell_type": "code",
   "execution_count": 14,
   "metadata": {},
   "outputs": [
    {
     "data": {
      "text/plain": [
       "0.08766091041580491"
      ]
     },
     "execution_count": 14,
     "metadata": {},
     "output_type": "execute_result"
    }
   ],
   "source": [
    "df_road = df[[\"Type_of_order\", \"Time_taken (min)\"]].groupby(\"Type_of_order\").mean()\n",
    "df_road[\"Time_taken (min)\"].std()"
   ]
  },
  {
   "cell_type": "code",
   "execution_count": 15,
   "metadata": {},
   "outputs": [
    {
     "data": {
      "text/html": [
       "<div>\n",
       "<style scoped>\n",
       "    .dataframe tbody tr th:only-of-type {\n",
       "        vertical-align: middle;\n",
       "    }\n",
       "\n",
       "    .dataframe tbody tr th {\n",
       "        vertical-align: top;\n",
       "    }\n",
       "\n",
       "    .dataframe thead th {\n",
       "        text-align: right;\n",
       "    }\n",
       "</style>\n",
       "<table border=\"1\" class=\"dataframe\">\n",
       "  <thead>\n",
       "    <tr style=\"text-align: right;\">\n",
       "      <th></th>\n",
       "      <th>Time_taken (min)</th>\n",
       "    </tr>\n",
       "    <tr>\n",
       "      <th>Type_of_vehicle</th>\n",
       "      <th></th>\n",
       "    </tr>\n",
       "  </thead>\n",
       "  <tbody>\n",
       "    <tr>\n",
       "      <th>bicycle</th>\n",
       "      <td>25.400000</td>\n",
       "    </tr>\n",
       "    <tr>\n",
       "      <th>electric_scooter</th>\n",
       "      <td>24.440586</td>\n",
       "    </tr>\n",
       "    <tr>\n",
       "      <th>motorcycle</th>\n",
       "      <td>27.676678</td>\n",
       "    </tr>\n",
       "    <tr>\n",
       "      <th>scooter</th>\n",
       "      <td>24.543232</td>\n",
       "    </tr>\n",
       "  </tbody>\n",
       "</table>\n",
       "</div>"
      ],
      "text/plain": [
       "                  Time_taken (min)\n",
       "Type_of_vehicle                   \n",
       "bicycle                  25.400000\n",
       "electric_scooter         24.440586\n",
       "motorcycle               27.676678\n",
       "scooter                  24.543232"
      ]
     },
     "execution_count": 15,
     "metadata": {},
     "output_type": "execute_result"
    }
   ],
   "source": [
    "df_road = df[[\"Type_of_vehicle\", \"Time_taken (min)\"]].groupby(\"Type_of_vehicle\").mean()\n",
    "df_road"
   ]
  },
  {
   "cell_type": "code",
   "execution_count": 16,
   "metadata": {},
   "outputs": [
    {
     "data": {
      "text/plain": [
       "13.79609904522959"
      ]
     },
     "execution_count": 16,
     "metadata": {},
     "output_type": "execute_result"
    }
   ],
   "source": [
    "df_road = df[[\"Festival\", \"Time_taken (min)\"]].groupby(\"Festival\").mean()\n",
    "df_road[\"Time_taken (min)\"].std()"
   ]
  },
  {
   "cell_type": "code",
   "execution_count": 17,
   "metadata": {},
   "outputs": [
    {
     "data": {
      "text/plain": [
       "14.329871133322866"
      ]
     },
     "execution_count": 17,
     "metadata": {},
     "output_type": "execute_result"
    }
   ],
   "source": [
    "df_road = df[[\"City\", \"Time_taken (min)\"]].groupby(\"City\").mean()\n",
    "df_road[\"Time_taken (min)\"].std()"
   ]
  },
  {
   "cell_type": "code",
   "execution_count": 18,
   "metadata": {},
   "outputs": [],
   "source": [
    "df[\"Vehicle_condition\"] = df[\"Vehicle_condition\"].replace(0,1)\n",
    "df[\"multiple_deliveries\"] = df[\"multiple_deliveries\"].replace(0.0,1.0)"
   ]
  },
  {
   "cell_type": "markdown",
   "metadata": {},
   "source": [
    "# Dividing ordinal and onehot encoder:\n",
    "\n",
    "1. Low Standard Deviation: If the standard deviation of the mean time taken across categories is low (e.g., less than 10% of the overall mean of the response variable), it suggests that the mean time taken doesn't vary much between categories. In such cases, OneHotEncoder might be suitable, especially if the categorical variable is nominal.\n",
    "\n",
    "2. High Standard Deviation: If the standard deviation is high (e.g., greater than 10% of the overall mean), it indicates significant variability in the mean time taken between categories. For ordinal variables or when you want to capture this variability without increasing dimensionality too much, OrdinalEncoder might be more appropriate."
   ]
  },
  {
   "cell_type": "code",
   "execution_count": 19,
   "metadata": {},
   "outputs": [],
   "source": [
    "# class FeatureClassifier:\n",
    "#     def __init__(self,df, target_column):\n",
    "#         self.df = df\n",
    "#         self.target_column = target_column\n",
    "    \n",
    "#     def get_ordinal_columns_mapping(self,columns):\n",
    "#         \"\"\"\n",
    "#         This function is used to get the mapping of ordinal columns.\n",
    "#         Each key is named as 'ColumnName_Map' and contains the unique values for that column.\n",
    "#         \"\"\"\n",
    "#         ordinal_columns_mapping = {}\n",
    "#         for col in columns:\n",
    "#             sorted_groups = self.df.groupby(col)[self.target_column].mean().sort_values().index.tolist()\n",
    "#             key_name = f\"{col}_Map\"\n",
    "#             ordinal_columns_mapping[key_name] = sorted_groups\n",
    "        \n",
    "#         return ordinal_columns_mapping\n",
    "        \n",
    "\n",
    "        \n",
    "#     def ordinal_onehot_numerical_divide(self):\n",
    "#         \"\"\"\n",
    "#         This function is used to divide the categorical into ordinal and one-hot columns and numerical columns.\n",
    "#         \"\"\"\n",
    "#         one_hot_cols = []\n",
    "#         ordinal_cols = []\n",
    "#         num_cols = []\n",
    "#         #Overall mean\n",
    "#         mean = df[self.target_column].mean()\n",
    "#         thereshold_percentage = 0.1\n",
    "#         threshold_value = mean * thereshold_percentage\n",
    "#         try:\n",
    "#             for column in self.df.columns:\n",
    "#                 if column != self.target_column and self.df[column].dtype == 'object':\n",
    "#                     df_column = self.df[[column, self.target_column]].groupby(column).mean().reset_index()\n",
    "#                     standard_dev = df_column[self.target_column].std()\n",
    "#                     if standard_dev > threshold_value:\n",
    "#                         ordinal_cols.append(column)\n",
    "#                     else:\n",
    "#                         one_hot_cols.append(column)\n",
    "#                 else:\n",
    "#                     num_cols.append(column)\n",
    "\n",
    "#             #Get Mappingsd for ordinal columns:\n",
    "#             ordinal_columns_mapping = self.get_ordinal_columns_mapping(ordinal_cols)\n",
    "#             return (one_hot_cols, ordinal_cols, num_cols, ordinal_columns_mapping)\n",
    "                 \n",
    "\n",
    "#         except Exception as e:\n",
    "#             print(e)\n",
    "#             raise CustomException(\"Error in feature_classifier.ordinal_onehot_numerical_divide: {}\".format(e, sys))\n"
   ]
  },
  {
   "cell_type": "code",
   "execution_count": 43,
   "metadata": {},
   "outputs": [],
   "source": [
    "from src.utils import *\n",
    "target_column = \"Time_taken (min)\"\n",
    "feature_classifier_obj = FeatureClassifier(df, target_column)"
   ]
  },
  {
   "cell_type": "code",
   "execution_count": 44,
   "metadata": {},
   "outputs": [],
   "source": [
    "one_hot_cols, ordinal_cols, num_cols, ordinal_columns_mapping = feature_classifier_obj.ordinal_onehot_numerical_divide()"
   ]
  },
  {
   "cell_type": "code",
   "execution_count": 46,
   "metadata": {},
   "outputs": [
    {
     "data": {
      "text/plain": [
       "['Weather_conditions', 'Type_of_order', 'Type_of_vehicle']"
      ]
     },
     "execution_count": 46,
     "metadata": {},
     "output_type": "execute_result"
    }
   ],
   "source": [
    "one_hot_cols"
   ]
  },
  {
   "cell_type": "code",
   "execution_count": 22,
   "metadata": {},
   "outputs": [
    {
     "data": {
      "text/plain": [
       "(['Weather_conditions', 'Type_of_order', 'Type_of_vehicle'],\n",
       " '\\n',\n",
       " ['Road_traffic_density', 'Festival', 'City'],\n",
       " '\\n',\n",
       " ['Delivery_person_Age',\n",
       "  'Delivery_person_Ratings',\n",
       "  'Vehicle_condition',\n",
       "  'multiple_deliveries',\n",
       "  'Time_taken (min)',\n",
       "  'distance'])"
      ]
     },
     "execution_count": 22,
     "metadata": {},
     "output_type": "execute_result"
    }
   ],
   "source": [
    "one_hot_cols, \"\\n\", ordinal_cols, \"\\n\", num_cols"
   ]
  },
  {
   "cell_type": "code",
   "execution_count": 23,
   "metadata": {},
   "outputs": [
    {
     "data": {
      "text/plain": [
       "{'Road_traffic_density_Map': ['Low', 'Medium', 'High', 'Jam'],\n",
       " 'Festival_Map': ['No', 'Yes'],\n",
       " 'City_Map': ['Urban', 'Metropolitian', 'Semi-Urban']}"
      ]
     },
     "execution_count": 23,
     "metadata": {},
     "output_type": "execute_result"
    }
   ],
   "source": [
    "ordinal_columns_mapping"
   ]
  },
  {
   "cell_type": "code",
   "execution_count": 47,
   "metadata": {},
   "outputs": [
    {
     "data": {
      "text/plain": [
       "Type_of_vehicle\n",
       "motorcycle          24972\n",
       "scooter             14272\n",
       "electric_scooter     3484\n",
       "bicycle                15\n",
       "Name: count, dtype: int64"
      ]
     },
     "execution_count": 47,
     "metadata": {},
     "output_type": "execute_result"
    }
   ],
   "source": [
    "df[\"Type_of_vehicle\"].value_counts()"
   ]
  },
  {
   "cell_type": "code",
   "execution_count": 25,
   "metadata": {},
   "outputs": [
    {
     "data": {
      "text/html": [
       "<div>\n",
       "<style scoped>\n",
       "    .dataframe tbody tr th:only-of-type {\n",
       "        vertical-align: middle;\n",
       "    }\n",
       "\n",
       "    .dataframe tbody tr th {\n",
       "        vertical-align: top;\n",
       "    }\n",
       "\n",
       "    .dataframe thead th {\n",
       "        text-align: right;\n",
       "    }\n",
       "</style>\n",
       "<table border=\"1\" class=\"dataframe\">\n",
       "  <thead>\n",
       "    <tr style=\"text-align: right;\">\n",
       "      <th></th>\n",
       "      <th>Delivery_person_Age</th>\n",
       "      <th>Delivery_person_Ratings</th>\n",
       "      <th>Weather_conditions</th>\n",
       "      <th>Road_traffic_density</th>\n",
       "      <th>Vehicle_condition</th>\n",
       "      <th>Type_of_order</th>\n",
       "      <th>Type_of_vehicle</th>\n",
       "      <th>multiple_deliveries</th>\n",
       "      <th>Festival</th>\n",
       "      <th>City</th>\n",
       "      <th>Time_taken (min)</th>\n",
       "      <th>distance</th>\n",
       "    </tr>\n",
       "  </thead>\n",
       "  <tbody>\n",
       "    <tr>\n",
       "      <th>0</th>\n",
       "      <td>36.0</td>\n",
       "      <td>4.2</td>\n",
       "      <td>Fog</td>\n",
       "      <td>Jam</td>\n",
       "      <td>2</td>\n",
       "      <td>Snack</td>\n",
       "      <td>motorcycle</td>\n",
       "      <td>3.0</td>\n",
       "      <td>No</td>\n",
       "      <td>Metropolitian</td>\n",
       "      <td>46</td>\n",
       "      <td>10.280582</td>\n",
       "    </tr>\n",
       "    <tr>\n",
       "      <th>1</th>\n",
       "      <td>21.0</td>\n",
       "      <td>4.7</td>\n",
       "      <td>Stormy</td>\n",
       "      <td>High</td>\n",
       "      <td>1</td>\n",
       "      <td>Meal</td>\n",
       "      <td>motorcycle</td>\n",
       "      <td>1.0</td>\n",
       "      <td>No</td>\n",
       "      <td>Metropolitian</td>\n",
       "      <td>23</td>\n",
       "      <td>6.242319</td>\n",
       "    </tr>\n",
       "    <tr>\n",
       "      <th>2</th>\n",
       "      <td>23.0</td>\n",
       "      <td>4.7</td>\n",
       "      <td>Sandstorms</td>\n",
       "      <td>Medium</td>\n",
       "      <td>1</td>\n",
       "      <td>Drinks</td>\n",
       "      <td>scooter</td>\n",
       "      <td>1.0</td>\n",
       "      <td>No</td>\n",
       "      <td>Metropolitian</td>\n",
       "      <td>21</td>\n",
       "      <td>13.787860</td>\n",
       "    </tr>\n",
       "    <tr>\n",
       "      <th>3</th>\n",
       "      <td>34.0</td>\n",
       "      <td>4.3</td>\n",
       "      <td>Sandstorms</td>\n",
       "      <td>Low</td>\n",
       "      <td>1</td>\n",
       "      <td>Buffet</td>\n",
       "      <td>motorcycle</td>\n",
       "      <td>1.0</td>\n",
       "      <td>No</td>\n",
       "      <td>Metropolitian</td>\n",
       "      <td>20</td>\n",
       "      <td>2.930258</td>\n",
       "    </tr>\n",
       "    <tr>\n",
       "      <th>4</th>\n",
       "      <td>24.0</td>\n",
       "      <td>4.7</td>\n",
       "      <td>Fog</td>\n",
       "      <td>Jam</td>\n",
       "      <td>1</td>\n",
       "      <td>Snack</td>\n",
       "      <td>scooter</td>\n",
       "      <td>1.0</td>\n",
       "      <td>No</td>\n",
       "      <td>Metropolitian</td>\n",
       "      <td>41</td>\n",
       "      <td>19.396618</td>\n",
       "    </tr>\n",
       "    <tr>\n",
       "      <th>...</th>\n",
       "      <td>...</td>\n",
       "      <td>...</td>\n",
       "      <td>...</td>\n",
       "      <td>...</td>\n",
       "      <td>...</td>\n",
       "      <td>...</td>\n",
       "      <td>...</td>\n",
       "      <td>...</td>\n",
       "      <td>...</td>\n",
       "      <td>...</td>\n",
       "      <td>...</td>\n",
       "      <td>...</td>\n",
       "    </tr>\n",
       "    <tr>\n",
       "      <th>42738</th>\n",
       "      <td>30.0</td>\n",
       "      <td>4.8</td>\n",
       "      <td>Windy</td>\n",
       "      <td>High</td>\n",
       "      <td>1</td>\n",
       "      <td>Meal</td>\n",
       "      <td>motorcycle</td>\n",
       "      <td>1.0</td>\n",
       "      <td>No</td>\n",
       "      <td>Metropolitian</td>\n",
       "      <td>32</td>\n",
       "      <td>1.489846</td>\n",
       "    </tr>\n",
       "    <tr>\n",
       "      <th>42739</th>\n",
       "      <td>21.0</td>\n",
       "      <td>4.6</td>\n",
       "      <td>Windy</td>\n",
       "      <td>Jam</td>\n",
       "      <td>1</td>\n",
       "      <td>Buffet</td>\n",
       "      <td>motorcycle</td>\n",
       "      <td>1.0</td>\n",
       "      <td>No</td>\n",
       "      <td>Metropolitian</td>\n",
       "      <td>36</td>\n",
       "      <td>11.007735</td>\n",
       "    </tr>\n",
       "    <tr>\n",
       "      <th>42740</th>\n",
       "      <td>30.0</td>\n",
       "      <td>4.9</td>\n",
       "      <td>Cloudy</td>\n",
       "      <td>Low</td>\n",
       "      <td>1</td>\n",
       "      <td>Drinks</td>\n",
       "      <td>scooter</td>\n",
       "      <td>1.0</td>\n",
       "      <td>No</td>\n",
       "      <td>Metropolitian</td>\n",
       "      <td>16</td>\n",
       "      <td>4.657195</td>\n",
       "    </tr>\n",
       "    <tr>\n",
       "      <th>42741</th>\n",
       "      <td>20.0</td>\n",
       "      <td>4.7</td>\n",
       "      <td>Cloudy</td>\n",
       "      <td>High</td>\n",
       "      <td>1</td>\n",
       "      <td>Snack</td>\n",
       "      <td>motorcycle</td>\n",
       "      <td>1.0</td>\n",
       "      <td>No</td>\n",
       "      <td>Metropolitian</td>\n",
       "      <td>26</td>\n",
       "      <td>6.232393</td>\n",
       "    </tr>\n",
       "    <tr>\n",
       "      <th>42742</th>\n",
       "      <td>23.0</td>\n",
       "      <td>4.9</td>\n",
       "      <td>Fog</td>\n",
       "      <td>Medium</td>\n",
       "      <td>2</td>\n",
       "      <td>Snack</td>\n",
       "      <td>scooter</td>\n",
       "      <td>1.0</td>\n",
       "      <td>No</td>\n",
       "      <td>Metropolitian</td>\n",
       "      <td>36</td>\n",
       "      <td>12.074396</td>\n",
       "    </tr>\n",
       "  </tbody>\n",
       "</table>\n",
       "<p>42743 rows × 12 columns</p>\n",
       "</div>"
      ],
      "text/plain": [
       "       Delivery_person_Age  Delivery_person_Ratings Weather_conditions  \\\n",
       "0                     36.0                      4.2                Fog   \n",
       "1                     21.0                      4.7             Stormy   \n",
       "2                     23.0                      4.7         Sandstorms   \n",
       "3                     34.0                      4.3         Sandstorms   \n",
       "4                     24.0                      4.7                Fog   \n",
       "...                    ...                      ...                ...   \n",
       "42738                 30.0                      4.8              Windy   \n",
       "42739                 21.0                      4.6              Windy   \n",
       "42740                 30.0                      4.9             Cloudy   \n",
       "42741                 20.0                      4.7             Cloudy   \n",
       "42742                 23.0                      4.9                Fog   \n",
       "\n",
       "      Road_traffic_density  Vehicle_condition Type_of_order Type_of_vehicle  \\\n",
       "0                      Jam                  2         Snack      motorcycle   \n",
       "1                     High                  1          Meal      motorcycle   \n",
       "2                   Medium                  1        Drinks         scooter   \n",
       "3                      Low                  1        Buffet      motorcycle   \n",
       "4                      Jam                  1         Snack         scooter   \n",
       "...                    ...                ...           ...             ...   \n",
       "42738                 High                  1          Meal      motorcycle   \n",
       "42739                  Jam                  1        Buffet      motorcycle   \n",
       "42740                  Low                  1        Drinks         scooter   \n",
       "42741                 High                  1         Snack      motorcycle   \n",
       "42742               Medium                  2         Snack         scooter   \n",
       "\n",
       "       multiple_deliveries Festival           City  Time_taken (min)  \\\n",
       "0                      3.0       No  Metropolitian                46   \n",
       "1                      1.0       No  Metropolitian                23   \n",
       "2                      1.0       No  Metropolitian                21   \n",
       "3                      1.0       No  Metropolitian                20   \n",
       "4                      1.0       No  Metropolitian                41   \n",
       "...                    ...      ...            ...               ...   \n",
       "42738                  1.0       No  Metropolitian                32   \n",
       "42739                  1.0       No  Metropolitian                36   \n",
       "42740                  1.0       No  Metropolitian                16   \n",
       "42741                  1.0       No  Metropolitian                26   \n",
       "42742                  1.0       No  Metropolitian                36   \n",
       "\n",
       "        distance  \n",
       "0      10.280582  \n",
       "1       6.242319  \n",
       "2      13.787860  \n",
       "3       2.930258  \n",
       "4      19.396618  \n",
       "...          ...  \n",
       "42738   1.489846  \n",
       "42739  11.007735  \n",
       "42740   4.657195  \n",
       "42741   6.232393  \n",
       "42742  12.074396  \n",
       "\n",
       "[42743 rows x 12 columns]"
      ]
     },
     "execution_count": 25,
     "metadata": {},
     "output_type": "execute_result"
    }
   ],
   "source": [
    "df"
   ]
  },
  {
   "cell_type": "code",
   "execution_count": 30,
   "metadata": {},
   "outputs": [],
   "source": [
    "#outlier Removal:\n",
    "df_filter = outlier_removal(df, num_cols)"
   ]
  },
  {
   "cell_type": "code",
   "execution_count": 31,
   "metadata": {},
   "outputs": [],
   "source": [
    "from sklearn.model_selection import train_test_split\n",
    "\n",
    "train_set, test_set = train_test_split(df_filter, test_size=0.2, random_state=42)\n",
    "\n",
    "input_feature_train_df = train_set.drop(labels=target_column,axis=1)\n",
    "input_feature_test_df = test_set.drop(labels=target_column,axis=1)\n",
    "target_training_df = train_set[target_column]\n",
    "target_testing_df = test_set[target_column]"
   ]
  },
  {
   "cell_type": "code",
   "execution_count": 32,
   "metadata": {},
   "outputs": [
    {
     "data": {
      "text/plain": [
       "array(['electric_scooter', 'scooter', 'motorcycle'], dtype=object)"
      ]
     },
     "execution_count": 32,
     "metadata": {},
     "output_type": "execute_result"
    }
   ],
   "source": [
    "train_set[\"Type_of_vehicle\"].unique()"
   ]
  },
  {
   "cell_type": "code",
   "execution_count": 33,
   "metadata": {},
   "outputs": [
    {
     "data": {
      "text/plain": [
       "[['Low', 'Medium', 'High', 'Jam'],\n",
       " ['No', 'Yes'],\n",
       " ['Urban', 'Metropolitian', 'Semi-Urban']]"
      ]
     },
     "execution_count": 33,
     "metadata": {},
     "output_type": "execute_result"
    }
   ],
   "source": [
    "categories = []\n",
    "for key, value in ordinal_columns_mapping.items():\n",
    "    categories.append(value)\n",
    "categories\n"
   ]
  },
  {
   "cell_type": "code",
   "execution_count": 34,
   "metadata": {},
   "outputs": [
    {
     "data": {
      "text/plain": [
       "{'Road_traffic_density_Map': ['Low', 'Medium', 'High', 'Jam'],\n",
       " 'Festival_Map': ['No', 'Yes'],\n",
       " 'City_Map': ['Urban', 'Metropolitian', 'Semi-Urban']}"
      ]
     },
     "execution_count": 34,
     "metadata": {},
     "output_type": "execute_result"
    }
   ],
   "source": [
    "ordinal_columns_mapping"
   ]
  },
  {
   "cell_type": "code",
   "execution_count": 35,
   "metadata": {},
   "outputs": [],
   "source": [
    "from sklearn.pipeline import Pipeline\n",
    "import pandas as pd\n",
    "from sklearn.base import BaseEstimator, TransformerMixin\n",
    "from sklearn.preprocessing import OrdinalEncoder, OneHotEncoder, StandardScaler\n",
    "from sklearn.impute import SimpleImputer\n",
    "from sklearn.compose import ColumnTransformer\n",
    "from sklearn.pipeline import Pipeline\n",
    "\n",
    "\n",
    "num_cols_pipe = [col for col in num_cols if col != \"Time_taken (min)\"]\n",
    "\n",
    "# Define pipelines for categorical and numeric data\n",
    "categorical_onehot_pipeline = Pipeline([\n",
    "    \n",
    "    ('imputer', SimpleImputer(strategy='most_frequent')),\n",
    "    ('onehot', OneHotEncoder(sparse_output=False)),\n",
    "    ('scaler', StandardScaler())\n",
    "])\n",
    "\n",
    "categorical_ordinal_pipeline = Pipeline([\n",
    "    ('imputer', SimpleImputer(strategy='most_frequent')),\n",
    "    ('ohe', OrdinalEncoder(categories=categories)),\n",
    "    ('scaler', StandardScaler())\n",
    "])\n",
    "\n",
    "numerical_pipeline = Pipeline([\n",
    "    ('imputer', SimpleImputer(strategy='mean')),\n",
    "    ('scaler', StandardScaler())\n",
    "])\n",
    "\n",
    "# Combine pipelines in a ColumnTransformer\n",
    "preprocessor = ColumnTransformer(transformers=[\n",
    "    ('cat_one_hot', categorical_onehot_pipeline, one_hot_cols),\n",
    "    ('cat_ordinal', categorical_ordinal_pipeline, ordinal_cols),\n",
    "    ('num', numerical_pipeline, num_cols_pipe)\n",
    "])\n",
    "\n"
   ]
  },
  {
   "cell_type": "code",
   "execution_count": 29,
   "metadata": {},
   "outputs": [
    {
     "ename": "NameError",
     "evalue": "name 'input_feature_train_df' is not defined",
     "output_type": "error",
     "traceback": [
      "\u001b[0;31m---------------------------------------------------------------------------\u001b[0m",
      "\u001b[0;31mNameError\u001b[0m                                 Traceback (most recent call last)",
      "Cell \u001b[0;32mIn[29], line 1\u001b[0m\n\u001b[0;32m----> 1\u001b[0m \u001b[43minput_feature_train_df\u001b[49m\u001b[38;5;241m.\u001b[39mcolumns\n",
      "\u001b[0;31mNameError\u001b[0m: name 'input_feature_train_df' is not defined"
     ]
    }
   ],
   "source": [
    "input_feature_train_df.columns"
   ]
  },
  {
   "cell_type": "code",
   "execution_count": 36,
   "metadata": {},
   "outputs": [
    {
     "data": {
      "text/plain": [
       "array(['electric_scooter', 'scooter', 'motorcycle'], dtype=object)"
      ]
     },
     "execution_count": 36,
     "metadata": {},
     "output_type": "execute_result"
    }
   ],
   "source": [
    "input_feature_train_df[\"Type_of_vehicle\"].unique()"
   ]
  },
  {
   "cell_type": "code",
   "execution_count": 36,
   "metadata": {},
   "outputs": [],
   "source": [
    "input_training_arr = preprocessor.fit_transform(input_feature_train_df)\n",
    "input_testing_arr = preprocessor.transform(input_feature_test_df)"
   ]
  },
  {
   "cell_type": "code",
   "execution_count": 41,
   "metadata": {},
   "outputs": [
    {
     "data": {
      "text/plain": [
       "array([-0.43136094, -0.43726641, -0.45054967,  2.1872357 , -0.45160441,\n",
       "       -0.45509609,  1.75208452, -0.57910708, -0.57468843, -0.58485694,\n",
       "        3.279649  , -1.15008913, -0.72650841, -1.04488653, -0.05493065,\n",
       "        0.5569542 , -1.59895577,  0.93667413,  1.37172379,  0.        ,\n",
       "       -1.11468622])"
      ]
     },
     "execution_count": 41,
     "metadata": {},
     "output_type": "execute_result"
    }
   ],
   "source": [
    "input_training_arr[0]"
   ]
  },
  {
   "cell_type": "code",
   "execution_count": 42,
   "metadata": {},
   "outputs": [
    {
     "data": {
      "text/plain": [
       "array([-0.43136094, -0.43726641, -0.45054967,  2.1872357 , -0.45160441,\n",
       "       -0.45509609, -0.57074872, -0.57910708,  1.74007332, -0.58485694,\n",
       "        3.279649  , -1.15008913, -0.72650841, -1.04488653, -0.05493065,\n",
       "        0.5569542 ,  1.00533579, -0.43761514,  1.37172379,  0.        ,\n",
       "       -1.40440731])"
      ]
     },
     "execution_count": 42,
     "metadata": {},
     "output_type": "execute_result"
    }
   ],
   "source": [
    "input_testing_arr[0]"
   ]
  },
  {
   "cell_type": "code",
   "execution_count": 24,
   "metadata": {},
   "outputs": [],
   "source": [
    "train_arr = np.c_[input_training_arr, np.array(target_training_df)]\n",
    "test_arr = np.c_[input_testing_arr, np.array(target_testing_df)]"
   ]
  },
  {
   "cell_type": "code",
   "execution_count": 25,
   "metadata": {},
   "outputs": [],
   "source": [
    "X_train, y_train, X_test, y_test = (\n",
    "    train_arr[:, :-1],\n",
    "    train_arr[:, -1],\n",
    "    test_arr[:, :-1],\n",
    "    test_arr[:, -1]\n",
    ")"
   ]
  },
  {
   "cell_type": "code",
   "execution_count": 26,
   "metadata": {},
   "outputs": [],
   "source": [
    "from sklearn.linear_model import LinearRegression, Ridge,Lasso,ElasticNet\n",
    "from sklearn.svm import SVR\n",
    "from sklearn.tree import DecisionTreeRegressor\n",
    "from sklearn.ensemble import RandomForestRegressor, BaggingRegressor, GradientBoostingRegressor\n",
    "\n",
    "models = {\n",
    "    'LinearRegression':LinearRegression(),\n",
    "    'Lasso':Lasso(),\n",
    "    'Ridge':Ridge(),\n",
    "    'Elasticnet':ElasticNet(),\n",
    "    'SVR': SVR(),\n",
    "    'DecisionTree':DecisionTreeRegressor(random_state=42),\n",
    "    'RandomForest':RandomForestRegressor(random_state=42),\n",
    "    'GradientBoostingRegressor':GradientBoostingRegressor(random_state=42),\n",
    "    'BaggingRegressor' : BaggingRegressor(random_state=42)\n",
    "}"
   ]
  },
  {
   "cell_type": "code",
   "execution_count": 27,
   "metadata": {},
   "outputs": [],
   "source": [
    "import yaml\n",
    "config_path = \"../params.yaml\"\n",
    "\n",
    "#Load yaml file:\n",
    "with open(config_path, 'r') as file:\n",
    "    config = yaml.safe_load(file)"
   ]
  },
  {
   "cell_type": "code",
   "execution_count": 28,
   "metadata": {},
   "outputs": [
    {
     "name": "stdout",
     "output_type": "stream",
     "text": [
      "################################################################################ \n",
      "\n",
      "LinearRegression:\n",
      "\n",
      "Testing Score: 0.42620103767580153\n",
      "\n",
      "\n",
      "\n",
      "\n"
     ]
    },
    {
     "name": "stderr",
     "output_type": "stream",
     "text": [
      "/Users/abhishek/Desktop/iNeuron/Machine Learning/EndToEnd/ML/Zomato Time Prediction/venv/lib/python3.11/site-packages/sklearn/model_selection/_search.py:318: UserWarning: The total space of parameters 9 is smaller than n_iter=10. Running 9 iterations. For exhaustive searches, use GridSearchCV.\n",
      "  warnings.warn(\n"
     ]
    },
    {
     "name": "stdout",
     "output_type": "stream",
     "text": [
      "################################################################################ \n",
      "\n",
      "Lasso:\n",
      "\n",
      "Training Score: 0.41168085251279757\n",
      "\n",
      "Best Params: {'alpha': 0.2}\n",
      "\n",
      "Testing Score: 0.41787819375237745\n",
      "\n",
      "\n",
      "\n",
      "\n"
     ]
    },
    {
     "name": "stderr",
     "output_type": "stream",
     "text": [
      "/Users/abhishek/Desktop/iNeuron/Machine Learning/EndToEnd/ML/Zomato Time Prediction/venv/lib/python3.11/site-packages/sklearn/model_selection/_search.py:318: UserWarning: The total space of parameters 9 is smaller than n_iter=10. Running 9 iterations. For exhaustive searches, use GridSearchCV.\n",
      "  warnings.warn(\n"
     ]
    },
    {
     "name": "stdout",
     "output_type": "stream",
     "text": [
      "################################################################################ \n",
      "\n",
      "Ridge:\n",
      "\n",
      "Training Score: 0.41815279394769805\n",
      "\n",
      "Best Params: {'alpha': 2}\n",
      "\n",
      "Testing Score: 0.4261816569676332\n",
      "\n",
      "\n",
      "\n",
      "\n",
      "################################################################################ \n",
      "\n",
      "Elasticnet:\n",
      "\n",
      "Training Score: 0.4111130316805121\n",
      "\n",
      "Best Params: {'l1_ratio': 0.6, 'alpha': 0.2}\n",
      "\n",
      "Testing Score: 0.4177061508079507\n",
      "\n",
      "\n",
      "\n",
      "\n"
     ]
    },
    {
     "name": "stderr",
     "output_type": "stream",
     "text": [
      "/Users/abhishek/Desktop/iNeuron/Machine Learning/EndToEnd/ML/Zomato Time Prediction/venv/lib/python3.11/site-packages/sklearn/model_selection/_search.py:318: UserWarning: The total space of parameters 4 is smaller than n_iter=10. Running 4 iterations. For exhaustive searches, use GridSearchCV.\n",
      "  warnings.warn(\n"
     ]
    },
    {
     "name": "stdout",
     "output_type": "stream",
     "text": [
      "################################################################################ \n",
      "\n",
      "SVR:\n",
      "\n",
      "Training Score: 0.5659891311393979\n",
      "\n",
      "Best Params: {'kernel': 'rbf'}\n",
      "\n",
      "Testing Score: 0.5767816831772832\n",
      "\n",
      "\n",
      "\n",
      "\n",
      "################################################################################ \n",
      "\n",
      "DecisionTree:\n",
      "\n",
      "Training Score: 0.6961566317727843\n",
      "\n",
      "Best Params: {'min_samples_split': 7, 'min_samples_leaf': 4, 'max_depth': 10}\n",
      "\n",
      "Testing Score: 0.7082324160807151\n",
      "\n",
      "\n",
      "\n",
      "\n",
      "################################################################################ \n",
      "\n",
      "RandomForest:\n",
      "\n",
      "Training Score: 0.708707813986199\n",
      "\n",
      "Best Params: {'n_estimators': 200, 'min_samples_split': 7, 'min_samples_leaf': 7, 'max_depth': 13}\n",
      "\n",
      "Testing Score: 0.7180853658872189\n",
      "\n",
      "\n",
      "\n",
      "\n",
      "################################################################################ \n",
      "\n",
      "GradientBoostingRegressor:\n",
      "\n",
      "Training Score: 0.6962382510538351\n",
      "\n",
      "Best Params: {'subsample': 1.0, 'n_estimators': 300, 'min_samples_split': 3, 'min_samples_leaf': 3, 'max_features': 'log2', 'max_depth': 5, 'learning_rate': 0.1}\n",
      "\n",
      "Testing Score: 0.7082977407223559\n",
      "\n",
      "\n",
      "\n",
      "\n",
      "################################################################################ \n",
      "\n",
      "BaggingRegressor:\n",
      "\n",
      "Training Score: 0.6873083915239414\n",
      "\n",
      "Best Params: {'n_estimators': 100, 'max_samples': 0.5, 'max_features': 1.0, 'bootstrap_features': False, 'bootstrap': False}\n",
      "\n",
      "Testing Score: 0.6975850589466197\n",
      "\n",
      "\n",
      "\n",
      "\n"
     ]
    }
   ],
   "source": [
    "from sklearn.metrics import r2_score\n",
    "\n",
    "\n",
    "for model_name, model_instance in models.items():\n",
    "    if model_name != \"LinearRegression\":\n",
    "        model_params = config[model_name]\n",
    "        random_cv, best_params_, best_score_ = random_search_cv(model_instance, X_train, y_train, model_params)\n",
    "        print(\"#\"*80, \"\\n\")\n",
    "        print(f\"{model_name}:\\n\")\n",
    "        print(f\"Training Score: {best_score_}\\n\")\n",
    "        print(f\"Best Params: {best_params_}\\n\")\n",
    "        y_pred = random_cv.predict(X_test)\n",
    "        r2_score_value = r2_score(y_test, y_pred)\n",
    "        print(f\"Testing Score: {r2_score_value}\\n\\n\\n\\n\")\n",
    "    else:\n",
    "        model = model_instance\n",
    "        model.fit(X_train, y_train)\n",
    "        y_pred = model.predict(X_test)\n",
    "        r2_score_value = r2_score(y_test, y_pred)\n",
    "        print(\"#\"*80, \"\\n\")\n",
    "        print(f\"{model_name}:\\n\")\n",
    "        print(f\"Testing Score: {r2_score_value}\\n\\n\\n\\n\")"
   ]
  },
  {
   "cell_type": "code",
   "execution_count": 29,
   "metadata": {},
   "outputs": [],
   "source": [
    "RandomForest_params = {\n",
    "  \"n_estimators\": [50, 100, 150, 200],\n",
    "  \"max_depth\": [2,3,4,5,6,7,8,9,10,11,12,13,14,15,16,17,28,29,20],\n",
    "  \"min_samples_split\": [2,3,4,5,6,7,8,9,10,11,12,13,14,15,16,17,28,29,20],\n",
    "  \"min_samples_leaf\": [2,3,4,5,6,7,8,9,10,11,12,13,14,15,16,17,28,29,20]\n",
    "}\n",
    "\n",
    "random_cv, best_params_, best_score_ = random_search_cv(RandomForestRegressor(), X_train, y_train, RandomForest_params)\n"
   ]
  },
  {
   "cell_type": "code",
   "execution_count": 30,
   "metadata": {},
   "outputs": [
    {
     "name": "stdout",
     "output_type": "stream",
     "text": [
      "RandomizedSearchCV(cv=5, estimator=RandomForestRegressor(),\n",
      "                   param_distributions={'max_depth': [2, 3, 4, 5, 6, 7, 8, 9,\n",
      "                                                      10, 11, 12, 13, 14, 15,\n",
      "                                                      16, 17, 28, 29, 20],\n",
      "                                        'min_samples_leaf': [2, 3, 4, 5, 6, 7,\n",
      "                                                             8, 9, 10, 11, 12,\n",
      "                                                             13, 14, 15, 16, 17,\n",
      "                                                             28, 29, 20],\n",
      "                                        'min_samples_split': [2, 3, 4, 5, 6, 7,\n",
      "                                                              8, 9, 10, 11, 12,\n",
      "                                                              13, 14, 15, 16,\n",
      "                                                              17, 28, 29, 20],\n",
      "                                        'n_estimators': [50, 100, 150, 200]},\n",
      "                   scoring='r2') {'n_estimators': 150, 'min_samples_split': 3, 'min_samples_leaf': 11, 'max_depth': 10} 0.710558865245839\n"
     ]
    }
   ],
   "source": [
    "print(random_cv, best_params_, best_score_)"
   ]
  },
  {
   "cell_type": "code",
   "execution_count": 31,
   "metadata": {},
   "outputs": [
    {
     "name": "stdout",
     "output_type": "stream",
     "text": [
      "Testing Score: 0.7206733112113541\n",
      "\n",
      "\n",
      "\n",
      "\n"
     ]
    }
   ],
   "source": [
    "y_pred = random_cv.predict(X_test)\n",
    "r2_score_value = r2_score(y_test, y_pred)\n",
    "print(f\"Testing Score: {r2_score_value}\\n\\n\\n\\n\")"
   ]
  },
  {
   "cell_type": "code",
   "execution_count": 27,
   "metadata": {},
   "outputs": [
    {
     "name": "stderr",
     "output_type": "stream",
     "text": [
      "2024-03-18 23:58:24 - Zomato_Time_Prediction - utils - INFO : Object loaded successfully\n",
      "2024-03-18 23:58:24 - Zomato_Time_Prediction - utils - INFO : Object loaded successfully\n"
     ]
    }
   ],
   "source": [
    "\n",
    "model = load_obj(\"/Users/abhishek/Desktop/iNeuron/Machine Learning/EndToEnd/ML/Zomato Time Prediction/artifacts/model.pkl\")\n",
    "preprocessor = load_obj(\"/Users/abhishek/Desktop/iNeuron/Machine Learning/EndToEnd/ML/Zomato Time Prediction/artifacts/preprocessor_obj.pkl\")\n",
    "\n"
   ]
  },
  {
   "cell_type": "code",
   "execution_count": 33,
   "metadata": {},
   "outputs": [
    {
     "data": {
      "text/html": [
       "<div>\n",
       "<style scoped>\n",
       "    .dataframe tbody tr th:only-of-type {\n",
       "        vertical-align: middle;\n",
       "    }\n",
       "\n",
       "    .dataframe tbody tr th {\n",
       "        vertical-align: top;\n",
       "    }\n",
       "\n",
       "    .dataframe thead th {\n",
       "        text-align: right;\n",
       "    }\n",
       "</style>\n",
       "<table border=\"1\" class=\"dataframe\">\n",
       "  <thead>\n",
       "    <tr style=\"text-align: right;\">\n",
       "      <th></th>\n",
       "      <th>Delivery_person_Age</th>\n",
       "      <th>Delivery_person_Ratings</th>\n",
       "      <th>Weather_conditions</th>\n",
       "      <th>Road_traffic_density</th>\n",
       "      <th>Vehicle_condition</th>\n",
       "      <th>Type_of_vehicle</th>\n",
       "      <th>Type_of_order</th>\n",
       "      <th>multiple_deliveries</th>\n",
       "      <th>Festival</th>\n",
       "      <th>City</th>\n",
       "      <th>distance</th>\n",
       "    </tr>\n",
       "  </thead>\n",
       "  <tbody>\n",
       "    <tr>\n",
       "      <th>0</th>\n",
       "      <td>30</td>\n",
       "      <td>4.5</td>\n",
       "      <td>Sunny</td>\n",
       "      <td>Low</td>\n",
       "      <td>3</td>\n",
       "      <td>motorcycle</td>\n",
       "      <td>Meal</td>\n",
       "      <td>1</td>\n",
       "      <td>No</td>\n",
       "      <td>Urban</td>\n",
       "      <td>5.2</td>\n",
       "    </tr>\n",
       "  </tbody>\n",
       "</table>\n",
       "</div>"
      ],
      "text/plain": [
       "   Delivery_person_Age  Delivery_person_Ratings Weather_conditions  \\\n",
       "0                   30                      4.5              Sunny   \n",
       "\n",
       "  Road_traffic_density  Vehicle_condition Type_of_vehicle Type_of_order  \\\n",
       "0                  Low                  3      motorcycle          Meal   \n",
       "\n",
       "   multiple_deliveries Festival   City  distance  \n",
       "0                    1       No  Urban       5.2  "
      ]
     },
     "execution_count": 33,
     "metadata": {},
     "output_type": "execute_result"
    }
   ],
   "source": [
    "data = {\n",
    "    \"Delivery_person_Age\": 30,\n",
    "    \"Delivery_person_Ratings\": 4.5,\n",
    "    \"Weather_conditions\": 'Sunny',\n",
    "    \"Road_traffic_density\": 'Low',\n",
    "    \"Vehicle_condition\": 3,\n",
    "    \"Type_of_vehicle\": 'motorcycle',\n",
    "    \"Type_of_order\": 'Meal',\n",
    "    \"multiple_deliveries\": 1,\n",
    "    \"Festival\": \"No\",\n",
    "    \"City\": 'Urban',\n",
    "    \"distance\": 5.2  # Assuming distance is in km or miles\n",
    "}\n",
    "\n",
    "df_new = pd.DataFrame(data=data, index=[0])\n",
    "df_new\n",
    "\n"
   ]
  },
  {
   "cell_type": "code",
   "execution_count": 34,
   "metadata": {},
   "outputs": [],
   "source": [
    "data_scaled = preprocessor.transform(df_new)\n"
   ]
  },
  {
   "cell_type": "code",
   "execution_count": 35,
   "metadata": {},
   "outputs": [
    {
     "data": {
      "text/plain": [
       "array([13.27])"
      ]
     },
     "execution_count": 35,
     "metadata": {},
     "output_type": "execute_result"
    }
   ],
   "source": [
    "pred = model.predict(data_scaled)\n",
    "pred"
   ]
  },
  {
   "cell_type": "code",
   "execution_count": null,
   "metadata": {},
   "outputs": [],
   "source": []
  }
 ],
 "metadata": {
  "kernelspec": {
   "display_name": "Python 3",
   "language": "python",
   "name": "python3"
  },
  "language_info": {
   "codemirror_mode": {
    "name": "ipython",
    "version": 3
   },
   "file_extension": ".py",
   "mimetype": "text/x-python",
   "name": "python",
   "nbconvert_exporter": "python",
   "pygments_lexer": "ipython3",
   "version": "3.11.0"
  }
 },
 "nbformat": 4,
 "nbformat_minor": 2
}
